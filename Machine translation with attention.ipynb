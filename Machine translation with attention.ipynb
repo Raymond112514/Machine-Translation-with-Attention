{
  "nbformat": 4,
  "nbformat_minor": 0,
  "metadata": {
    "colab": {
      "provenance": [],
      "collapsed_sections": [
        "gS4qlwl6zFGh",
        "rWS6QJMHzg_Y",
        "heOZjAE-z7tc",
        "pIi2IXs41dup",
        "3yhEv3FgUVf5",
        "acFqhgV6XNv6",
        "dhE7nZlejlTQ",
        "AKdzhE2l8SkM",
        "hk7m4KVEwnoV",
        "lMP_EMA23GK1",
        "Rp81w4KSwAyN",
        "4Z-wWjdzeHx-"
      ],
      "machine_shape": "hm",
      "gpuType": "T4"
    },
    "kernelspec": {
      "name": "python3",
      "display_name": "Python 3"
    },
    "language_info": {
      "name": "python"
    },
    "accelerator": "GPU"
  },
  "cells": [
    {
      "cell_type": "markdown",
      "source": [
        "## Importing libraries"
      ],
      "metadata": {
        "id": "gS4qlwl6zFGh"
      }
    },
    {
      "cell_type": "code",
      "source": [
        "# Importing nessesary libraries\n",
        "import unicodedata\n",
        "import numpy as np\n",
        "import torch.nn as nn\n",
        "import torch.nn.functional as F\n",
        "import matplotlib.pyplot as plt\n",
        "from collections import Counter\n",
        "import torch.optim as optim\n",
        "from torch.utils.data import Dataset, DataLoader, random_split\n",
        "import torch\n",
        "import os\n",
        "from math import log\n",
        "import tensorflow as tf\n",
        "import nltk"
      ],
      "metadata": {
        "id": "yrkHXdC81qPQ"
      },
      "execution_count": 461,
      "outputs": []
    },
    {
      "cell_type": "code",
      "source": [
        "# Mounting google drive\n",
        "from google.colab import drive\n",
        "drive.mount('/content/drive')"
      ],
      "metadata": {
        "colab": {
          "base_uri": "https://localhost:8080/"
        },
        "id": "MB96B9-0dBHM",
        "outputId": "27a586bd-e555-405b-dc45-8918efdba2fd"
      },
      "execution_count": 2,
      "outputs": [
        {
          "output_type": "stream",
          "name": "stdout",
          "text": [
            "Mounted at /content/drive\n"
          ]
        }
      ]
    },
    {
      "cell_type": "markdown",
      "source": [
        "## Importing data"
      ],
      "metadata": {
        "id": "rWS6QJMHzg_Y"
      }
    },
    {
      "cell_type": "code",
      "source": [
        "# Download the text file from tensorflow\n",
        "import pathlib\n",
        "\n",
        "path_to_zip = tf.keras.utils.get_file(\n",
        "    'spa-eng.zip', origin='http://storage.googleapis.com/download.tensorflow.org/data/spa-eng.zip',\n",
        "    extract=True)\n",
        "\n",
        "path_to_file = pathlib.Path(path_to_zip).parent/'spa-eng/spa.txt'"
      ],
      "metadata": {
        "id": "CuaSmQ_by3l0",
        "colab": {
          "base_uri": "https://localhost:8080/"
        },
        "outputId": "d3a8f253-e958-442f-8e77-afc43b663885"
      },
      "execution_count": 4,
      "outputs": [
        {
          "output_type": "stream",
          "name": "stdout",
          "text": [
            "Downloading data from http://storage.googleapis.com/download.tensorflow.org/data/spa-eng.zip\n",
            "2638744/2638744 [==============================] - 1s 0us/step\n"
          ]
        }
      ]
    },
    {
      "cell_type": "code",
      "source": [
        "# Loading dataset\n",
        "# Source: https://www.tensorflow.org/text/tutorials/nmt_with_attention\n",
        "def load_data(path):\n",
        "  text = path.read_text(encoding='utf-8')\n",
        "  lines = text.splitlines()\n",
        "  pairs = [line.split('\\t') for line in lines]\n",
        "  context = np.array([context for target, context in pairs])\n",
        "  target = np.array([target for target, context in pairs])\n",
        "  return target, context"
      ],
      "metadata": {
        "id": "PMpeuVQBy3tz"
      },
      "execution_count": 5,
      "outputs": []
    },
    {
      "cell_type": "code",
      "source": [
        "numSamples = 30000"
      ],
      "metadata": {
        "id": "tsEv34F7kDhq"
      },
      "execution_count": 6,
      "outputs": []
    },
    {
      "cell_type": "code",
      "source": [
        "target_raw, context_raw = load_data(path_to_file)"
      ],
      "metadata": {
        "id": "7G4r6hT_y6TY"
      },
      "execution_count": 7,
      "outputs": []
    },
    {
      "cell_type": "markdown",
      "source": [
        "After loading the dataset, we can take a look at some of the text data:"
      ],
      "metadata": {
        "id": "YI4FVpSEi6iK"
      }
    },
    {
      "cell_type": "code",
      "source": [
        "idx = -1\n",
        "print(target_raw[idx])\n",
        "print(context_raw[idx])"
      ],
      "metadata": {
        "colab": {
          "base_uri": "https://localhost:8080/"
        },
        "id": "WFqQUl2nzkpk",
        "outputId": "4f3ab070-1bb6-4b80-82f7-bfe040bc3201"
      },
      "execution_count": 8,
      "outputs": [
        {
          "output_type": "stream",
          "name": "stdout",
          "text": [
            "If you want to sound like a native speaker, you must be willing to practice saying the same sentence over and over in the same way that banjo players practice the same phrase over and over until they can play it correctly and at the desired tempo.\n",
            "Si quieres sonar como un hablante nativo, debes estar dispuesto a practicar diciendo la misma frase una y otra vez de la misma manera en que un músico de banjo practica el mismo fraseo una y otra vez hasta que lo puedan tocar correctamente y en el tiempo esperado.\n"
          ]
        }
      ]
    },
    {
      "cell_type": "markdown",
      "source": [
        "## Preprocessing I: Text normalization"
      ],
      "metadata": {
        "id": "heOZjAE-z7tc"
      }
    },
    {
      "cell_type": "markdown",
      "source": [
        "As the first step of preprocessing, we transform all characters to lowercase and Unicode, while also eliminating punctuation at the end of each sentence."
      ],
      "metadata": {
        "id": "nL8bbKSgjrMb"
      }
    },
    {
      "cell_type": "code",
      "source": [
        "# Takes in a setence (string) and normalize all characters to unicode\n",
        "\n",
        "def normalize_unicode(text, normalization_form='NFC'):\n",
        "    normalized_text = unicodedata.normalize(normalization_form, text)\n",
        "    return normalized_text"
      ],
      "metadata": {
        "id": "9bPJIh2W1hsS"
      },
      "execution_count": 9,
      "outputs": []
    },
    {
      "cell_type": "code",
      "source": [
        "# Takes in an array of sentences, for each sentence, perform the following operations\n",
        "# lower case -> normalize unicode -> remove period at the end\n",
        "\n",
        "def normalize(text_array):\n",
        "    return_array = []\n",
        "    for sentence in text_array:\n",
        "        sentence = sentence.lower()\n",
        "        sentence = normalize_unicode(sentence)\n",
        "        sentence = sentence.replace('.', '')\n",
        "        return_array.append(sentence)\n",
        "    return np.array(return_array)"
      ],
      "metadata": {
        "id": "0UXzyl7M105B"
      },
      "execution_count": 10,
      "outputs": []
    },
    {
      "cell_type": "code",
      "source": [
        "print(f\"Length of context raw: {len(context_raw)}\")\n",
        "print(f\"Length of target raw: {len(target_raw)}\")"
      ],
      "metadata": {
        "colab": {
          "base_uri": "https://localhost:8080/"
        },
        "id": "OpJBw4AU1xyT",
        "outputId": "165093f0-6f9f-4500-ca18-cc17b574dffa"
      },
      "execution_count": 11,
      "outputs": [
        {
          "output_type": "stream",
          "name": "stdout",
          "text": [
            "Length of context raw: 118964\n",
            "Length of target raw: 118964\n"
          ]
        }
      ]
    },
    {
      "cell_type": "code",
      "source": [
        "context = normalize(context_raw)\n",
        "target = normalize(target_raw)"
      ],
      "metadata": {
        "id": "YuFKc8Br2cR2"
      },
      "execution_count": 12,
      "outputs": []
    },
    {
      "cell_type": "code",
      "source": [
        "context"
      ],
      "metadata": {
        "colab": {
          "base_uri": "https://localhost:8080/"
        },
        "id": "wd0qdEK4266m",
        "outputId": "d89c377d-338a-4826-c3eb-5ce71dbf4ef2"
      },
      "execution_count": 13,
      "outputs": [
        {
          "output_type": "execute_result",
          "data": {
            "text/plain": [
              "array(['ve', 'vete', 'vaya', ...,\n",
              "       'una huella de carbono es la cantidad de contaminación de dióxido de carbono que producimos como producto de nuestras actividades algunas personas intentan reducir su huella de carbono porque están preocupados acerca del cambio climático',\n",
              "       'como suele haber varias páginas web sobre cualquier tema, normalmente sólo le doy al botón de retroceso cuando entro en una página web que tiene anuncios en ventanas emergentes simplemente voy a la siguiente página encontrada por google y espero encontrar algo menos irritante',\n",
              "       'si quieres sonar como un hablante nativo, debes estar dispuesto a practicar diciendo la misma frase una y otra vez de la misma manera en que un músico de banjo practica el mismo fraseo una y otra vez hasta que lo puedan tocar correctamente y en el tiempo esperado'],\n",
              "      dtype='<U276')"
            ]
          },
          "metadata": {},
          "execution_count": 13
        }
      ]
    },
    {
      "cell_type": "code",
      "source": [
        "print(f\"Length of context preprocessed: {len(context)}\")\n",
        "print(f\"Length of target preprocessed: {len(target)}\")"
      ],
      "metadata": {
        "colab": {
          "base_uri": "https://localhost:8080/"
        },
        "id": "R5d-G5-n2hOL",
        "outputId": "75490ced-a759-41cb-9429-f59f1e506ca0"
      },
      "execution_count": 15,
      "outputs": [
        {
          "output_type": "stream",
          "name": "stdout",
          "text": [
            "Length of context preprocessed: 118964\n",
            "Length of target preprocessed: 118964\n"
          ]
        }
      ]
    },
    {
      "cell_type": "markdown",
      "source": [
        "## Preprocessing II: Vectorization"
      ],
      "metadata": {
        "id": "pIi2IXs41dup"
      }
    },
    {
      "cell_type": "markdown",
      "source": [
        "In the second step of proprocessing, we numericalize each word using the custom Vocab class. The vocab class takes in an array of sentences and for each word in the sentence, assigns an index. The freq parameter is used to control the size of vocabulary. The vocab class also contains methods that converts numericalized sentences to word sentences."
      ],
      "metadata": {
        "id": "fGyTTg6skIeS"
      }
    },
    {
      "cell_type": "code",
      "source": [
        "# Initialize special tokens\n",
        "\n",
        "START_TOKEN = 0\n",
        "PAD_TOKEN = 1\n",
        "END_TOKEN = 2\n",
        "UNK_TOKEN = 3"
      ],
      "metadata": {
        "id": "lFJgFbRJz62I"
      },
      "execution_count": 16,
      "outputs": []
    },
    {
      "cell_type": "code",
      "source": [
        "# Implementation of the vocab class\n",
        "\n",
        "class Vocab:\n",
        "    def __init__(self, text_array, freq=2):\n",
        "        self.text_array = text_array\n",
        "        self.ttov = {\"<sos>\": START_TOKEN, \"<pad>\": PAD_TOKEN,\n",
        "                     \"<eos>\": END_TOKEN, \"<unk>\": UNK_TOKEN}\n",
        "        self.vtot = dict((idx, token) for token, idx in self.ttov.items())\n",
        "        self.length = 4\n",
        "        self.counter = Counter()\n",
        "        self.freq = freq\n",
        "        self.build_vocab()\n",
        "\n",
        "    def add(self, token):\n",
        "        self.ttov[token] = self.length\n",
        "        self.vtot[self.length] = token\n",
        "        self.length += 1\n",
        "\n",
        "    def build_vocab(self):\n",
        "        for sentence in self.text_array:\n",
        "            for token in sentence.split():\n",
        "                self.counter.update([token])\n",
        "\n",
        "        for token, counter in self.counter.items():\n",
        "            if counter >= self.freq:\n",
        "                self.add(token)\n",
        "\n",
        "    def vecToText(self, vec):\n",
        "        text = []\n",
        "        for v in vec:\n",
        "            if v in self.vtot:\n",
        "                text.append(self.vtot[v])\n",
        "            else:\n",
        "                text.append(\"<unk>\")\n",
        "        return text\n",
        "\n",
        "    def textToVec(self, text):\n",
        "        vec = []\n",
        "        for t in text:\n",
        "            if t in self.ttov:\n",
        "                vec.append(self.ttov[t])\n",
        "            else:\n",
        "                vec.append(UNK_TOKEN)\n",
        "        return torch.tensor(vec)"
      ],
      "metadata": {
        "id": "Y0h36Tdc0rPi"
      },
      "execution_count": 17,
      "outputs": []
    },
    {
      "cell_type": "code",
      "source": [
        "# Fitting the vocabs on both the context and target sentences\n",
        "\n",
        "context_vocab = Vocab(context)\n",
        "target_vocab = Vocab(target)"
      ],
      "metadata": {
        "id": "uT7sDYkA0rYK"
      },
      "execution_count": 18,
      "outputs": []
    },
    {
      "cell_type": "code",
      "source": [
        "print(f\"Length of context dictionary: {context_vocab.length}\")\n",
        "print(f\"Length of target dictionary: {target_vocab.length}\")"
      ],
      "metadata": {
        "colab": {
          "base_uri": "https://localhost:8080/"
        },
        "id": "H2K6Ihqb0w6n",
        "outputId": "81c49490-cc5c-456d-c0e9-aa9d2f21d4e9"
      },
      "execution_count": 19,
      "outputs": [
        {
          "output_type": "stream",
          "name": "stdout",
          "text": [
            "Length of context dictionary: 18169\n",
            "Length of target dictionary: 11401\n"
          ]
        }
      ]
    },
    {
      "cell_type": "markdown",
      "source": [
        "## Dataset"
      ],
      "metadata": {
        "id": "3yhEv3FgUVf5"
      }
    },
    {
      "cell_type": "markdown",
      "source": [
        "After preprocessing the sentences, we implement a custom Dataset class"
      ],
      "metadata": {
        "id": "2CwHVzXJk57M"
      }
    },
    {
      "cell_type": "code",
      "source": [
        "# Implementation of dataset class\n",
        "\n",
        "class TextDataset(Dataset):\n",
        "    def __init__(self, context_array, target_array, context_vocab, target_vocab):\n",
        "        if len(context_array) != len(target_array):\n",
        "            raise ValueError(\"Lengths of context and target must be equal.\")\n",
        "        self.context = context_array\n",
        "        self.target = target_array\n",
        "        self.context_vocab = context_vocab\n",
        "        self.target_vocab = target_vocab\n",
        "        self.length = len(context_array)\n",
        "        self.context_max_length = self.getMaxLen(self.context)\n",
        "        self.target_max_length = self.getMaxLen(self.target)\n",
        "\n",
        "    def __len__(self):\n",
        "        return self.length\n",
        "\n",
        "    def __getitem__(self, idx):\n",
        "        context = self.context_vocab.textToVec(self.context[idx].split())\n",
        "        target = self.target_vocab.textToVec(self.target[idx].split())\n",
        "        return context, target\n",
        "\n",
        "    def getMaxLen(self, text_array):\n",
        "        return len(max(self.context, key=lambda x: len(x.split())).split())"
      ],
      "metadata": {
        "id": "JdsVnYAJ0xBM"
      },
      "execution_count": 20,
      "outputs": []
    },
    {
      "cell_type": "code",
      "source": [
        "# Testing whether the dataset class works properly\n",
        "\n",
        "data = TextDataset(context, target, context_vocab, target_vocab)\n",
        "data.__getitem__(333)"
      ],
      "metadata": {
        "colab": {
          "base_uri": "https://localhost:8080/"
        },
        "id": "iQDYSQV67Vjj",
        "outputId": "5bcdb908-482d-4813-eb45-5cc8569e3fa8"
      },
      "execution_count": 21,
      "outputs": [
        {
          "output_type": "execute_result",
          "data": {
            "text/plain": [
              "(tensor([142, 311]), tensor([ 40, 192]))"
            ]
          },
          "metadata": {},
          "execution_count": 21
        }
      ]
    },
    {
      "cell_type": "code",
      "source": [
        "CONTEXT_MAX_LENGTH = data.context_max_length\n",
        "TARGET_MAX_LENGTH = data.target_max_length\n",
        "print(f\"Maximum length of context: {CONTEXT_MAX_LENGTH}\")\n",
        "print(f\"Maximum length of target: {TARGET_MAX_LENGTH}\")"
      ],
      "metadata": {
        "colab": {
          "base_uri": "https://localhost:8080/"
        },
        "id": "iUFATLRmJNnd",
        "outputId": "cbd8e13c-3b4b-48cd-c3ca-b3463fd8f2c1"
      },
      "execution_count": 22,
      "outputs": [
        {
          "output_type": "stream",
          "name": "stdout",
          "text": [
            "Maximum length of context: 49\n",
            "Maximum length of target: 49\n"
          ]
        }
      ]
    },
    {
      "cell_type": "markdown",
      "source": [
        "## Dataloader"
      ],
      "metadata": {
        "id": "acFqhgV6XNv6"
      }
    },
    {
      "cell_type": "code",
      "source": [
        "# Helper function for the dataloader class\n",
        "# The collate_fn function pads each sentence to the same length\n",
        "\n",
        "def collate_fn(batch):\n",
        "    context, target = [data[0] for data in batch], [data[1] for data in batch]\n",
        "    target_in = [torch.cat([torch.tensor([START_TOKEN]), text]) for text in target]\n",
        "    target_out = [torch.cat([text, torch.tensor([END_TOKEN])]) for text in target]\n",
        "    return pad(context, CONTEXT_MAX_LENGTH), pad(target_in, TARGET_MAX_LENGTH), pad(target_out, TARGET_MAX_LENGTH)\n",
        "\n",
        "def pad(texts, max_len):\n",
        "    padded = []\n",
        "    for text in texts:\n",
        "        while len(text) < max_len:\n",
        "            text = torch.cat([text, torch.tensor([PAD_TOKEN])])\n",
        "        padded.append(text)\n",
        "    return torch.stack(padded)"
      ],
      "metadata": {
        "id": "lWpbR61CXPDM"
      },
      "execution_count": 23,
      "outputs": []
    },
    {
      "cell_type": "markdown",
      "source": [
        "## Encoder model"
      ],
      "metadata": {
        "id": "dhE7nZlejlTQ"
      }
    },
    {
      "cell_type": "code",
      "source": [
        "# B: Batch size\n",
        "# L: Max length\n",
        "# E: Embedding size\n",
        "# H: Hidden size\n",
        "\n",
        "class Encoder(nn.Module):\n",
        "    def __init__(self, embed_size, vocab_size, hidden_size, dropout_p=0.1):\n",
        "        super(Encoder, self).__init__()\n",
        "        self.embedding = nn.Embedding(vocab_size, embed_size, padding_idx=PAD_TOKEN)\n",
        "        self.rnn = nn.GRU(embed_size, hidden_size, batch_first=True)\n",
        "        self.dropout = nn.Dropout(dropout_p)\n",
        "\n",
        "    def forward(self, context, training=True):\n",
        "        # Context: [B, L]\n",
        "        x = self.embedding(context) # [B, L, E]\n",
        "        x = self.dropout(x) if training else None\n",
        "        x, h = self.rnn(x)  # x: [B, L, H], h: [2, B, H]\n",
        "        return x, h # x: [B, L, H], h: [1, B, H]"
      ],
      "metadata": {
        "id": "_9WyklBrjm33"
      },
      "execution_count": 284,
      "outputs": []
    },
    {
      "cell_type": "markdown",
      "source": [
        "## Attention layer"
      ],
      "metadata": {
        "id": "AKdzhE2l8SkM"
      }
    },
    {
      "cell_type": "code",
      "source": [
        "class Attention(nn.Module):\n",
        "    def __init__(self, hidden_size):\n",
        "        super(Attention, self).__init__()\n",
        "        self.Q = nn.Linear(hidden_size, hidden_size, bias=False)\n",
        "        self.K = nn.Linear(hidden_size, hidden_size, bias=False)\n",
        "        self.V = nn.Linear(hidden_size, 1, bias=False)\n",
        "\n",
        "    # Query: RNN decoder hidden state: [B, 1, H]\n",
        "    # Key: Encoder output: [B, L, H]\n",
        "    # Value: Encoder output: [B, L, H]\n",
        "    def forward(self, query, key):\n",
        "        x = self.V(torch.tanh(self.Q(query) + self.K(key))) #[B, L, 1]\n",
        "        x = x.squeeze(2).unsqueeze(1) #[B, 1, L]\n",
        "        weights = F.softmax(x, dim=-1)\n",
        "        context = torch.bmm(weights, key) #[B, 1, H]\n",
        "        return context, weights"
      ],
      "metadata": {
        "id": "n1cZ8NdhSZ4Z"
      },
      "execution_count": 285,
      "outputs": []
    },
    {
      "cell_type": "markdown",
      "source": [
        "## Decoder model"
      ],
      "metadata": {
        "id": "hk7m4KVEwnoV"
      }
    },
    {
      "cell_type": "code",
      "source": [
        "class Decoder(nn.Module):\n",
        "    def __init__(self, embed_size, vocab_size, hidden_size, dropout_p=0.1):\n",
        "        super(Decoder, self).__init__()\n",
        "        self.embedding = nn.Embedding(vocab_size, embed_size, padding_idx=PAD_TOKEN)\n",
        "        self.attention = Attention(hidden_size)\n",
        "        self.rnn = nn.GRU(embed_size + hidden_size, hidden_size, batch_first=True)\n",
        "        self.out = nn.Linear(hidden_size, vocab_size)\n",
        "        self.dropout = nn.Dropout(dropout_p)\n",
        "\n",
        "    def forward(self, encoder_out, hidden_init, target_in, training=True):\n",
        "        decoder_hidden = hidden_init #[1, B, H]\n",
        "        decoder_outputs = []\n",
        "        attentions = []\n",
        "\n",
        "        for t in range(TARGET_MAX_LENGTH):\n",
        "            decoder_in = target_in[:, t].unsqueeze(1) #[B, 1]\n",
        "            output, decoder_hidden, weights = self.forward_step(encoder_out, decoder_hidden, decoder_in, training)\n",
        "            decoder_outputs.append(output)\n",
        "            attentions.append(weights)\n",
        "\n",
        "        decoder_outputs = torch.cat(decoder_outputs, dim=1)\n",
        "        attentions = torch.cat(attentions, dim=1)\n",
        "        logits = F.log_softmax(decoder_outputs, dim=-1)\n",
        "        return logits, decoder_hidden, attentions\n",
        "\n",
        "    def forward_step(self, encoder_out, decoder_hidden, decoder_in, training):\n",
        "        token_embedded = self.embedding(decoder_in) #[B, 1, E]\n",
        "        token_embedded = self.dropout(token_embedded) if training else None\n",
        "        context, weights = self.attention(query=decoder_hidden.permute(1, 0, 2), key=encoder_out) #[B, 1, L], [B, 1, H]\n",
        "        gru_input = torch.cat((token_embedded, context), dim=2) #[B, 1, E+H]\n",
        "        output, decoder_hidden = self.rnn(gru_input, decoder_hidden) #[B, 1, H], [B, 1, H]\n",
        "        output = self.out(output) #[B, 1, H]\n",
        "        return output, decoder_hidden, weights #[B, 1, V], [1, B, H]"
      ],
      "metadata": {
        "id": "FoZLsjp_wppt"
      },
      "execution_count": 286,
      "outputs": []
    },
    {
      "cell_type": "markdown",
      "source": [
        "## Training preparations"
      ],
      "metadata": {
        "id": "lMP_EMA23GK1"
      }
    },
    {
      "cell_type": "markdown",
      "source": [
        "Before training, the dataloaders and parameters are initialized"
      ],
      "metadata": {
        "id": "_BYjQ_Ijlu-L"
      }
    },
    {
      "cell_type": "code",
      "source": [
        "# Preprocess I: Normalize the sentences\n",
        "\n",
        "numSamples = 50000\n",
        "target_raw, context_raw = load_data(path_to_file)\n",
        "target_raw, context_raw = target_raw[:numSamples], context_raw[:numSamples]\n",
        "context = normalize(context_raw)\n",
        "target = normalize(target_raw)\n",
        "print(f\"Length of preprocessed context: {len(context)}\")\n",
        "print(f\"Length of preprocessed target: {len(target)}\")"
      ],
      "metadata": {
        "colab": {
          "base_uri": "https://localhost:8080/"
        },
        "id": "V7msfi4t4vXq",
        "outputId": "1994f7bf-767c-46e1-d1d6-fcc705444c9d"
      },
      "execution_count": 330,
      "outputs": [
        {
          "output_type": "stream",
          "name": "stdout",
          "text": [
            "Length of preprocessed context: 50000\n",
            "Length of preprocessed target: 50000\n"
          ]
        }
      ]
    },
    {
      "cell_type": "code",
      "source": [
        "# Preprocess II: Numericalize the sentences\n",
        "\n",
        "context_vocab = Vocab(context)\n",
        "target_vocab = Vocab(target)\n",
        "print(f\"Length of context dictionary: {context_vocab.length}\")\n",
        "print(f\"Length of target dictionary: {target_vocab.length}\")"
      ],
      "metadata": {
        "colab": {
          "base_uri": "https://localhost:8080/"
        },
        "id": "jUQWfBGzkQTO",
        "outputId": "41ad9f28-d040-40ce-da2a-3b0492cdca24"
      },
      "execution_count": 331,
      "outputs": [
        {
          "output_type": "stream",
          "name": "stdout",
          "text": [
            "Length of context dictionary: 8623\n",
            "Length of target dictionary: 5588\n"
          ]
        }
      ]
    },
    {
      "cell_type": "code",
      "source": [
        "# Instantiating the dataset class\n",
        "\n",
        "dataset = TextDataset(context, target, context_vocab, target_vocab)\n",
        "CONTEXT_MAX_LENGTH = dataset.context_max_length\n",
        "TARGET_MAX_LENGTH = dataset.target_max_length\n",
        "print(f\"Maximum length of context: {CONTEXT_MAX_LENGTH}\")\n",
        "print(f\"Maximum length of target: {TARGET_MAX_LENGTH}\")"
      ],
      "metadata": {
        "colab": {
          "base_uri": "https://localhost:8080/"
        },
        "id": "Az_A0uso4ZVD",
        "outputId": "1b77c28d-77e6-4085-ca87-20fb94539e5f"
      },
      "execution_count": 332,
      "outputs": [
        {
          "output_type": "stream",
          "name": "stdout",
          "text": [
            "Maximum length of context: 12\n",
            "Maximum length of target: 12\n"
          ]
        }
      ]
    },
    {
      "cell_type": "code",
      "source": [
        "# Performing train-test split\n",
        "\n",
        "print(f\"Size of dataset: {len(dataset)}\")\n",
        "train_ratio, val_ratio = 0.6, 0.2\n",
        "train_size, val_size = int(len(dataset) * train_ratio), int(len(dataset) * val_ratio)\n",
        "test_size = len(dataset) - train_size - val_size\n",
        "print(f\"Size of training data: {train_size}, validation data: {val_size}, test_data: {test_size}\")"
      ],
      "metadata": {
        "colab": {
          "base_uri": "https://localhost:8080/"
        },
        "id": "kDQa9opu5Ge8",
        "outputId": "73d28642-9352-46f2-9559-88b0af515cf0"
      },
      "execution_count": 333,
      "outputs": [
        {
          "output_type": "stream",
          "name": "stdout",
          "text": [
            "Size of dataset: 50000\n",
            "Size of training data: 30000, validation data: 10000, test_data: 10000\n"
          ]
        }
      ]
    },
    {
      "cell_type": "code",
      "source": [
        "# Instantiating training, validation, and testing dataloaders\n",
        "\n",
        "train_dataset, val_dataset, test_dataset = random_split(dataset, [train_size, val_size, test_size])\n",
        "train_dataloader = DataLoader(train_dataset, batch_size=64, shuffle=True, collate_fn=collate_fn)\n",
        "val_dataloader = DataLoader(val_dataset, batch_size=64, shuffle=False, collate_fn=collate_fn)\n",
        "test_dataloader = DataLoader(test_dataset, batch_size=64, shuffle=False, collate_fn=collate_fn)"
      ],
      "metadata": {
        "id": "7Yj7tNa95z8P"
      },
      "execution_count": 334,
      "outputs": []
    },
    {
      "cell_type": "code",
      "source": [
        "# Model parameters\n",
        "\n",
        "input_vocab_size = context_vocab.length\n",
        "output_vocab_size = target_vocab.length\n",
        "embed_size = 128\n",
        "hidden_size = 128"
      ],
      "metadata": {
        "id": "kOWPTNFU6s9_"
      },
      "execution_count": 335,
      "outputs": []
    },
    {
      "cell_type": "markdown",
      "source": [
        "## Training loop"
      ],
      "metadata": {
        "id": "Rp81w4KSwAyN"
      }
    },
    {
      "cell_type": "code",
      "source": [
        "device = torch.device(\"cuda\" if torch.cuda.is_available() else \"cpu\")"
      ],
      "metadata": {
        "id": "TDV3qTa5LMWh"
      },
      "execution_count": 336,
      "outputs": []
    },
    {
      "cell_type": "code",
      "source": [
        "def train_epoch(dataloader, encoder, decoder, encoder_optimizer, decoder_optimizer, criterion):\n",
        "\n",
        "    total_loss = 0\n",
        "    for context, target_in, target_out in dataloader:\n",
        "        context = context.to(device)\n",
        "        target_in = target_in.to(device)\n",
        "        target_out = target_out.to(device)\n",
        "\n",
        "        encoder_optimizer.zero_grad()\n",
        "        decoder_optimizer.zero_grad()\n",
        "\n",
        "        encoder_outputs, encoder_hidden = encoder(context)\n",
        "        decoder_outputs, _, _ = decoder(encoder_outputs, encoder_hidden, target_in)\n",
        "\n",
        "        loss = criterion(\n",
        "            decoder_outputs.view(-1, decoder_outputs.size(-1)),\n",
        "            target_out.view(-1)\n",
        "        )\n",
        "        loss.backward()\n",
        "\n",
        "        encoder_optimizer.step()\n",
        "        decoder_optimizer.step()\n",
        "\n",
        "        total_loss += loss.item()\n",
        "    return total_loss / len(dataloader)"
      ],
      "metadata": {
        "id": "TVQHnCDgvPx2"
      },
      "execution_count": 337,
      "outputs": []
    },
    {
      "cell_type": "code",
      "source": [
        "def val_epoch(dataloader, encoder, decoder, criterion):\n",
        "    total_loss = 0\n",
        "    for context, target_in, target_out in dataloader:\n",
        "        context = context.to(device)\n",
        "        target_in = target_in.to(device)\n",
        "        target_out = target_out.to(device)\n",
        "        encoder_outputs, encoder_hidden = encoder(context)\n",
        "        decoder_outputs, _, _ = decoder(encoder_outputs, encoder_hidden, target_in)\n",
        "\n",
        "        loss = criterion(\n",
        "            decoder_outputs.view(-1, decoder_outputs.size(-1)),\n",
        "            target_out.view(-1)\n",
        "        )\n",
        "        total_loss += loss.item()\n",
        "    return total_loss / len(dataloader)"
      ],
      "metadata": {
        "id": "t_st47l3f4G9"
      },
      "execution_count": 338,
      "outputs": []
    },
    {
      "cell_type": "code",
      "source": [
        "def train(train_dataloader, encoder, decoder, n_epochs, learning_rate=0.001, print_every=100):\n",
        "    train_history = []\n",
        "    val_history = []\n",
        "\n",
        "    encoder_optimizer = optim.Adam(encoder.parameters(), lr=learning_rate)\n",
        "    decoder_optimizer = optim.Adam(decoder.parameters(), lr=learning_rate)\n",
        "    criterion = nn.NLLLoss()\n",
        "\n",
        "    for epoch in range(1, n_epochs + 1):\n",
        "        loss = train_epoch(train_dataloader, encoder, decoder, encoder_optimizer, decoder_optimizer, criterion)\n",
        "        train_history.append(loss)\n",
        "\n",
        "        if epoch % print_every == 0:\n",
        "            val_loss = val_epoch(val_dataloader, encoder, decoder, criterion)\n",
        "            val_history.append(val_loss)\n",
        "            print(f\"Epoch {epoch} with training loss {loss} and validation loss {val_loss} -----------------------------------------\")\n",
        "\n",
        "    return train_history, val_history"
      ],
      "metadata": {
        "id": "-GnjpWiQvrTQ"
      },
      "execution_count": 339,
      "outputs": []
    },
    {
      "cell_type": "code",
      "source": [
        "input_vocab_size = context_vocab.length\n",
        "output_vocab_size = target_vocab.length"
      ],
      "metadata": {
        "id": "DfR0SsPtwUkT"
      },
      "execution_count": 340,
      "outputs": []
    },
    {
      "cell_type": "code",
      "source": [
        "encoder = Encoder(embed_size, input_vocab_size, hidden_size).to(device)\n",
        "decoder = Decoder(embed_size, output_vocab_size, hidden_size).to(device)"
      ],
      "metadata": {
        "id": "2sUJ-gprv5Uf"
      },
      "execution_count": 341,
      "outputs": []
    },
    {
      "cell_type": "code",
      "source": [
        "learning_rate = 0.001\n",
        "optimizer = optim.Adam(encoder.parameters(), lr=learning_rate)\n",
        "criterion = nn.NLLLoss()"
      ],
      "metadata": {
        "id": "5UUUCqou6Ezf"
      },
      "execution_count": 342,
      "outputs": []
    },
    {
      "cell_type": "code",
      "source": [
        "full_train_history, full_val_history = [], []"
      ],
      "metadata": {
        "id": "XOJO6nepr5ot"
      },
      "execution_count": 348,
      "outputs": []
    },
    {
      "cell_type": "code",
      "source": [
        "train_history, val_history = train(train_dataloader, encoder, decoder, n_epochs=20, learning_rate=0.001, print_every=1)"
      ],
      "metadata": {
        "colab": {
          "base_uri": "https://localhost:8080/"
        },
        "id": "e3rT4StWv5Xh",
        "outputId": "5fd2304c-a63c-4c80-fdea-4dd664eea2dc"
      },
      "execution_count": 387,
      "outputs": [
        {
          "output_type": "stream",
          "name": "stdout",
          "text": [
            "Epoch 1 with training loss 0.23143978022944445 and validation loss 0.8868987647591123 -----------------------------------------\n",
            "Epoch 2 with training loss 0.21424433916235275 and validation loss 0.887894706171789 -----------------------------------------\n",
            "Epoch 3 with training loss 0.20241819716084486 and validation loss 0.8892059189498804 -----------------------------------------\n",
            "Epoch 4 with training loss 0.19281669081782482 and validation loss 0.9004877110955062 -----------------------------------------\n",
            "Epoch 5 with training loss 0.1852953567274852 and validation loss 0.8939905971478505 -----------------------------------------\n",
            "Epoch 6 with training loss 0.1763937305698771 and validation loss 0.9015903575405194 -----------------------------------------\n",
            "Epoch 7 with training loss 0.17000023088157812 and validation loss 0.9050573418094854 -----------------------------------------\n",
            "Epoch 8 with training loss 0.16318056398808067 and validation loss 0.9155039346901475 -----------------------------------------\n",
            "Epoch 9 with training loss 0.15705548824150678 and validation loss 0.9178853904365734 -----------------------------------------\n",
            "Epoch 10 with training loss 0.15168301154301364 and validation loss 0.9176304446663827 -----------------------------------------\n",
            "Epoch 11 with training loss 0.1463449441198347 and validation loss 0.9258635446524165 -----------------------------------------\n",
            "Epoch 12 with training loss 0.14131699812247048 and validation loss 0.9331710851116545 -----------------------------------------\n",
            "Epoch 13 with training loss 0.13581784190272472 and validation loss 0.9373825632842483 -----------------------------------------\n",
            "Epoch 14 with training loss 0.13208323620212103 and validation loss 0.9415548793069876 -----------------------------------------\n",
            "Epoch 15 with training loss 0.12796802331071927 and validation loss 0.9495836921558258 -----------------------------------------\n",
            "Epoch 16 with training loss 0.12392669952690982 and validation loss 0.9539572953418561 -----------------------------------------\n",
            "Epoch 17 with training loss 0.11940876446934397 and validation loss 0.9627796684860424 -----------------------------------------\n",
            "Epoch 18 with training loss 0.11701216267497301 and validation loss 0.963977179329866 -----------------------------------------\n",
            "Epoch 19 with training loss 0.11338198327941935 and validation loss 0.9716145825234188 -----------------------------------------\n",
            "Epoch 20 with training loss 0.11123088755206004 and validation loss 0.9767350524094454 -----------------------------------------\n"
          ]
        }
      ]
    },
    {
      "cell_type": "code",
      "source": [
        "full_train_history.extend(train_history)\n",
        "full_val_history.extend(val_history)"
      ],
      "metadata": {
        "id": "tD1617cqrzIn"
      },
      "execution_count": 388,
      "outputs": []
    },
    {
      "cell_type": "code",
      "source": [
        "plt.plot(full_train_history, label=\"Training loss\")\n",
        "plt.plot(full_val_history, label=\"Validation loss\")\n",
        "plt.xlabel(\"Epoch\")\n",
        "plt.ylabel(\"Loss\")\n",
        "plt.title(\"Training and validation loss\")\n",
        "plt.legend()\n",
        "plt.show()"
      ],
      "metadata": {
        "colab": {
          "base_uri": "https://localhost:8080/",
          "height": 472
        },
        "id": "8A64Xl64sspX",
        "outputId": "5ff8d141-bfa2-4904-f1d1-6323874d37d9"
      },
      "execution_count": 390,
      "outputs": [
        {
          "output_type": "display_data",
          "data": {
            "text/plain": [
              "<Figure size 640x480 with 1 Axes>"
            ],
            "image/png": "[encoded data removed]"
          },
          "metadata": {}
        }
      ]
    },
    {
      "cell_type": "markdown",
      "source": [
        "## Saving the Model"
      ],
      "metadata": {
        "id": "4Z-wWjdzeHx-"
      }
    },
    {
      "cell_type": "code",
      "source": [
        "encoder_path = '/content/drive/MyDrive/Machine translation/50000_encoder128.pth'\n",
        "torch.save(encoder.state_dict(), encoder_path)"
      ],
      "metadata": {
        "id": "_vEcN-hrdRpg"
      },
      "execution_count": 360,
      "outputs": []
    },
    {
      "cell_type": "code",
      "source": [
        "decoder_path = '/content/drive/MyDrive/Machine translation/50000_decoder128.pth'\n",
        "torch.save(decoder.state_dict(), decoder_path)"
      ],
      "metadata": {
        "id": "tVTyHYj3eUeW"
      },
      "execution_count": 361,
      "outputs": []
    },
    {
      "cell_type": "markdown",
      "source": [
        "## Loading the Model"
      ],
      "metadata": {
        "id": "sRMOUywh_gg1"
      }
    },
    {
      "cell_type": "code",
      "source": [
        "encoder_path = '/content/drive/MyDrive/Machine translation/50000_encoder128.pth'\n",
        "encoder.load_state_dict(torch.load(encoder_path))"
      ],
      "metadata": {
        "colab": {
          "base_uri": "https://localhost:8080/"
        },
        "id": "yJrUvPDH_jTI",
        "outputId": "ccd057d9-6d54-4f64-9b21-f321ed4efbd5"
      },
      "execution_count": 426,
      "outputs": [
        {
          "output_type": "execute_result",
          "data": {
            "text/plain": [
              "<All keys matched successfully>"
            ]
          },
          "metadata": {},
          "execution_count": 426
        }
      ]
    },
    {
      "cell_type": "code",
      "source": [
        "decoder_path = '/content/drive/MyDrive/Machine translation/50000_decoder128.pth'\n",
        "decoder.load_state_dict(torch.load(decoder_path))"
      ],
      "metadata": {
        "colab": {
          "base_uri": "https://localhost:8080/"
        },
        "id": "4ttdsHz1AQYw",
        "outputId": "9a275aa3-a762-4eb0-83d6-878c7aa62001"
      },
      "execution_count": 427,
      "outputs": [
        {
          "output_type": "execute_result",
          "data": {
            "text/plain": [
              "<All keys matched successfully>"
            ]
          },
          "metadata": {},
          "execution_count": 427
        }
      ]
    },
    {
      "cell_type": "markdown",
      "source": [
        "## Evaluation: greedy search"
      ],
      "metadata": {
        "id": "jM2oI3O5e7uO"
      }
    },
    {
      "cell_type": "code",
      "source": [
        "def evaluate(batch, encoder, decoder, context_vocab, target_vocab, search):\n",
        "    context, target_in, target_out = batch\n",
        "    context = context.to(device)\n",
        "    target_in = target_in.to(device)\n",
        "    target_out = target_out.to(device)\n",
        "\n",
        "    encoder_outputs, encoder_hidden = encoder(context)\n",
        "\n",
        "    encoder_outputs, encoder_hidden = encoder(context)\n",
        "    decoder_outputs, _, _ = decoder(encoder_outputs, encoder_hidden, target_in)\n",
        "\n",
        "    loss = criterion(\n",
        "            decoder_outputs.view(-1, decoder_outputs.size(-1)),\n",
        "            target_out.view(-1))\n",
        "    predicted_texts, true_texts = search(decoder_outputs, target_out, target_vocab)\n",
        "\n",
        "    return predicted_texts, true_texts, loss.item()"
      ],
      "metadata": {
        "id": "RTGllBm8e9pB"
      },
      "execution_count": 446,
      "outputs": []
    },
    {
      "cell_type": "code",
      "source": [
        "def greedy_search(logits, target_out, target_vocab):\n",
        "    batch_size = logits.shape[0]\n",
        "    sentence_len = logits.shape[1]\n",
        "    predicted_texts = []\n",
        "    true_texts = []\n",
        "\n",
        "    for batch in range(batch_size):\n",
        "        predicted_text = []\n",
        "        for t in range(sentence_len):\n",
        "            predicted_text.append(torch.argmax(logits[batch][t]).item())\n",
        "        predicted_text = target_vocab.vecToText(predicted_text)\n",
        "        true_text = target_vocab.vecToText(target_out[batch, :].tolist())\n",
        "\n",
        "        predicted_texts.append(predicted_text)\n",
        "        true_texts.append(true_text)\n",
        "\n",
        "    return predicted_texts, true_texts"
      ],
      "metadata": {
        "id": "L__kLngyjlSt"
      },
      "execution_count": 447,
      "outputs": []
    },
    {
      "cell_type": "code",
      "source": [
        "def compare(predicted_texts, true_texts):\n",
        "    for i in range(len(predicted_texts)):\n",
        "        print(f\"Sample {i + 1} ----------------------------------------------------------------\")\n",
        "        print(f\"Predicted: {toSentence(predicted_texts[i])}\")\n",
        "        print(f\"True: {toSentence(true_texts[i])}\")\n",
        "        print(f\"-------------------------------------------------------------------------\")\n",
        "        print(f\" \")"
      ],
      "metadata": {
        "id": "l0x4VeWaouk1"
      },
      "execution_count": 448,
      "outputs": []
    },
    {
      "cell_type": "code",
      "source": [
        "def toSentence(list_of_text):\n",
        "    sentence = \"\"\n",
        "    for t in range(len(list_of_text)):\n",
        "        if list_of_text[t] == \"<eos>\" or list_of_text[t] == \"<pad>\":\n",
        "            break\n",
        "        sentence += list_of_text[t] + \" \"\n",
        "    return sentence"
      ],
      "metadata": {
        "id": "_Wh2AONIo0dK"
      },
      "execution_count": 449,
      "outputs": []
    },
    {
      "cell_type": "code",
      "source": [
        "test_dataloader = DataLoader(test_dataset, batch_size=15, shuffle=True, collate_fn=collate_fn)"
      ],
      "metadata": {
        "id": "UYIFa9MhmRr6"
      },
      "execution_count": 450,
      "outputs": []
    },
    {
      "cell_type": "code",
      "source": [
        "test_batch = next(iter(test_dataloader))"
      ],
      "metadata": {
        "id": "Xer50YVcjzvr"
      },
      "execution_count": 451,
      "outputs": []
    },
    {
      "cell_type": "code",
      "source": [
        "predicted_texts, true_texts, test_loss = evaluate(test_batch, encoder, decoder, context_vocab, target_vocab, greedy_search)"
      ],
      "metadata": {
        "id": "FtJnTGAsj7Rg"
      },
      "execution_count": 452,
      "outputs": []
    },
    {
      "cell_type": "code",
      "source": [
        "print(f\"The test loss is: {test_loss}\")"
      ],
      "metadata": {
        "colab": {
          "base_uri": "https://localhost:8080/"
        },
        "id": "7ZRFHsbMLvxZ",
        "outputId": "c733032f-609d-4ee0-d3c0-135ca1f0bb24"
      },
      "execution_count": 453,
      "outputs": [
        {
          "output_type": "stream",
          "name": "stdout",
          "text": [
            "The test loss is: 0.7648793458938599\n"
          ]
        }
      ]
    },
    {
      "cell_type": "code",
      "source": [
        "compare(predicted_texts, true_texts)"
      ],
      "metadata": {
        "colab": {
          "base_uri": "https://localhost:8080/"
        },
        "id": "xrYM_lwSopJd",
        "outputId": "c045385a-0cc8-42d5-a298-a247434e36db"
      },
      "execution_count": 454,
      "outputs": [
        {
          "output_type": "stream",
          "name": "stdout",
          "text": [
            "Sample 1 ----------------------------------------------------------------\n",
            "Predicted: they must be more polite \n",
            "True: you must be more polite \n",
            "-------------------------------------------------------------------------\n",
            " \n",
            "Sample 2 ----------------------------------------------------------------\n",
            "Predicted: the light is closed \n",
            "True: the lid is closed \n",
            "-------------------------------------------------------------------------\n",
            " \n",
            "Sample 3 ----------------------------------------------------------------\n",
            "Predicted: money has the world \n",
            "True: money rules the world \n",
            "-------------------------------------------------------------------------\n",
            " \n",
            "Sample 4 ----------------------------------------------------------------\n",
            "Predicted: were you worried? of that? \n",
            "True: were you aware of that? \n",
            "-------------------------------------------------------------------------\n",
            " \n",
            "Sample 5 ----------------------------------------------------------------\n",
            "Predicted: she hair cut hair \n",
            "True: her hair is dry \n",
            "-------------------------------------------------------------------------\n",
            " \n",
            "Sample 6 ----------------------------------------------------------------\n",
            "Predicted: you seem <unk> \n",
            "True: you seem <unk> \n",
            "-------------------------------------------------------------------------\n",
            " \n",
            "Sample 7 ----------------------------------------------------------------\n",
            "Predicted: am you wrong? \n",
            "True: am i dreaming? \n",
            "-------------------------------------------------------------------------\n",
            " \n",
            "Sample 8 ----------------------------------------------------------------\n",
            "Predicted: i need to make a \n",
            "True: i have to try \n",
            "-------------------------------------------------------------------------\n",
            " \n",
            "Sample 9 ----------------------------------------------------------------\n",
            "Predicted: we're in the same boat \n",
            "True: we're in the same boat \n",
            "-------------------------------------------------------------------------\n",
            " \n",
            "Sample 10 ----------------------------------------------------------------\n",
            "Predicted: can i ask you favor? of you? \n",
            "True: may i ask a favor of you? \n",
            "-------------------------------------------------------------------------\n",
            " \n",
            "Sample 11 ----------------------------------------------------------------\n",
            "Predicted: this door won't <unk> \n",
            "True: this door won't shut \n",
            "-------------------------------------------------------------------------\n",
            " \n",
            "Sample 12 ----------------------------------------------------------------\n",
            "Predicted: tom <unk> in a \n",
            "True: tom <unk> in ski races \n",
            "-------------------------------------------------------------------------\n",
            " \n",
            "Sample 13 ----------------------------------------------------------------\n",
            "Predicted: i like that cold \n",
            "True: i like that person \n",
            "-------------------------------------------------------------------------\n",
            " \n",
            "Sample 14 ----------------------------------------------------------------\n",
            "Predicted: tell tom what tom said \n",
            "True: tell me what tom said \n",
            "-------------------------------------------------------------------------\n",
            " \n",
            "Sample 15 ----------------------------------------------------------------\n",
            "Predicted: they are too soon \n",
            "True: they arrived too soon \n",
            "-------------------------------------------------------------------------\n",
            " \n"
          ]
        }
      ]
    },
    {
      "cell_type": "markdown",
      "source": [
        "## Evaluation: Beam search"
      ],
      "metadata": {
        "id": "tGH7w0DRGwD5"
      }
    },
    {
      "cell_type": "code",
      "source": [
        "context, target_in, target_out = test_batch\n",
        "context = context.to(device)\n",
        "target_in = target_in.to(device)\n",
        "target_out = target_out.to(device)\n",
        "\n",
        "encoder_outputs, encoder_hidden = encoder(context)\n",
        "\n",
        "encoder_outputs, encoder_hidden = encoder(context)\n",
        "decoder_outputs, _, _ = decoder(encoder_outputs, encoder_hidden, target_in)"
      ],
      "metadata": {
        "id": "T555cbImGyGS"
      },
      "execution_count": 455,
      "outputs": []
    },
    {
      "cell_type": "code",
      "source": [
        "# Input logits: [L, V]\n",
        "def beam_decode(logits, beam_width=3):\n",
        "    sequences = [[list(), 0.0]]\n",
        "    for row in logits:\n",
        "        all_candidates = list()\n",
        "        row = torch.softmax(torch.tensor(row), dim=-1).tolist()\n",
        "        for i in range(len(sequences)):\n",
        "            seq, score = sequences[i]\n",
        "            for j in range(len(row)):\n",
        "                candidate = [seq + [j], score - log(row[j])]\n",
        "                all_candidates.append(candidate)\n",
        "        ordered = sorted(all_candidates, key=lambda tup: tup[1])\n",
        "        sequences = ordered[:beam_width]\n",
        "\n",
        "    optimal_sequence = max(sequences, key=lambda tup: tup[1])[0]\n",
        "    return optimal_sequence, sequences"
      ],
      "metadata": {
        "id": "WPeBC5UhH1lS"
      },
      "execution_count": 456,
      "outputs": []
    },
    {
      "cell_type": "code",
      "source": [
        "def beam_search(logits, target_out, target_vocab, beam_width=5):\n",
        "    batch_size = logits.shape[0]\n",
        "    sentence_len = logits.shape[1]\n",
        "    predicted_texts = []\n",
        "    true_texts = []\n",
        "\n",
        "    for batch in range(batch_size):\n",
        "        opt_sequence, _ = beam_decode(logits[batch], beam_width=beam_width)\n",
        "        predicted_text = target_vocab.vecToText(opt_sequence)\n",
        "        true_text = target_vocab.vecToText(target_out[batch, :].tolist())\n",
        "\n",
        "        predicted_texts.append(predicted_text)\n",
        "        true_texts.append(true_text)\n",
        "\n",
        "    return predicted_texts, true_texts"
      ],
      "metadata": {
        "id": "4KDqELOrKEgG"
      },
      "execution_count": 457,
      "outputs": []
    },
    {
      "cell_type": "code",
      "source": [
        "predicted_texts, true_texts, test_loss = evaluate(test_batch, encoder, decoder, context_vocab, target_vocab, beam_search)"
      ],
      "metadata": {
        "colab": {
          "base_uri": "https://localhost:8080/"
        },
        "id": "dSZOJt9yLKDU",
        "outputId": "348b05c5-68b5-4878-a63a-cba6cf8dd8da"
      },
      "execution_count": 458,
      "outputs": [
        {
          "output_type": "stream",
          "name": "stderr",
          "text": [
            "<ipython-input-456-96f8f54ce8fd>:6: UserWarning: To copy construct from a tensor, it is recommended to use sourceTensor.clone().detach() or sourceTensor.clone().detach().requires_grad_(True), rather than torch.tensor(sourceTensor).\n",
            "  row = torch.softmax(torch.tensor(row), dim=-1).tolist()\n"
          ]
        }
      ]
    },
    {
      "cell_type": "code",
      "source": [
        "print(f\"The test loss is: {test_loss}\")"
      ],
      "metadata": {
        "colab": {
          "base_uri": "https://localhost:8080/"
        },
        "id": "rA848jJ_Lqxq",
        "outputId": "321a4c22-5df9-496c-9b70-bff5a282008f"
      },
      "execution_count": 459,
      "outputs": [
        {
          "output_type": "stream",
          "name": "stdout",
          "text": [
            "The test loss is: 0.8098700642585754\n"
          ]
        }
      ]
    },
    {
      "cell_type": "code",
      "source": [
        "compare(predicted_texts, true_texts)"
      ],
      "metadata": {
        "colab": {
          "base_uri": "https://localhost:8080/"
        },
        "id": "hVbdwxDGJvf3",
        "outputId": "7019c409-5cdd-43bc-9ea7-0941c9829f13"
      },
      "execution_count": 460,
      "outputs": [
        {
          "output_type": "stream",
          "name": "stdout",
          "text": [
            "Sample 1 ----------------------------------------------------------------\n",
            "Predicted: they must've be more polite \n",
            "True: you must be more polite \n",
            "-------------------------------------------------------------------------\n",
            " \n",
            "Sample 2 ----------------------------------------------------------------\n",
            "Predicted: the light is closed \n",
            "True: the lid is closed \n",
            "-------------------------------------------------------------------------\n",
            " \n",
            "Sample 3 ----------------------------------------------------------------\n",
            "Predicted: money is out same \n",
            "True: money rules the world \n",
            "-------------------------------------------------------------------------\n",
            " \n",
            "Sample 4 ----------------------------------------------------------------\n",
            "Predicted: were you talking to that? \n",
            "True: were you aware of that? \n",
            "-------------------------------------------------------------------------\n",
            " \n",
            "Sample 5 ----------------------------------------------------------------\n",
            "Predicted: she hair is dry \n",
            "True: her hair is dry \n",
            "-------------------------------------------------------------------------\n",
            " \n",
            "Sample 6 ----------------------------------------------------------------\n",
            "Predicted: you look distracted \n",
            "True: you seem <unk> \n",
            "-------------------------------------------------------------------------\n",
            " \n",
            "Sample 7 ----------------------------------------------------------------\n",
            "Predicted: am no under \n",
            "True: am i dreaming? \n",
            "-------------------------------------------------------------------------\n",
            " \n",
            "Sample 8 ----------------------------------------------------------------\n",
            "Predicted: i have to do a \n",
            "True: i have to try \n",
            "-------------------------------------------------------------------------\n",
            " \n",
            "Sample 9 ----------------------------------------------------------------\n",
            "Predicted: we in the air boat \n",
            "True: we're in the same boat \n",
            "-------------------------------------------------------------------------\n",
            " \n",
            "Sample 10 ----------------------------------------------------------------\n",
            "Predicted: can i ask you favor? of you? \n",
            "True: may i ask a favor of you? \n",
            "-------------------------------------------------------------------------\n",
            " \n",
            "Sample 11 ----------------------------------------------------------------\n",
            "Predicted: this door won't open \n",
            "True: this door won't shut \n",
            "-------------------------------------------------------------------------\n",
            " \n",
            "Sample 12 ----------------------------------------------------------------\n",
            "Predicted: tom <unk> in stay \n",
            "True: tom <unk> in ski races \n",
            "-------------------------------------------------------------------------\n",
            " \n",
            "Sample 13 ----------------------------------------------------------------\n",
            "Predicted: i like that house \n",
            "True: i like that person \n",
            "-------------------------------------------------------------------------\n",
            " \n",
            "Sample 14 ----------------------------------------------------------------\n",
            "Predicted: tell me what tom is \n",
            "True: tell me what tom said \n",
            "-------------------------------------------------------------------------\n",
            " \n",
            "Sample 15 ----------------------------------------------------------------\n",
            "Predicted: they are too early \n",
            "True: they arrived too soon \n",
            "-------------------------------------------------------------------------\n",
            " \n"
          ]
        }
      ]
    }
  ]
}